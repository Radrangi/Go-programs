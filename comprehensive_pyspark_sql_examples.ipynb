{
 "cells": [
  {
   "cell_type": "code",
   "execution_count": null,
   "id": "91b5dcb9",
   "metadata": {},
   "outputs": [],
   "source": [
    "\n",
    "from pyspark.sql import SparkSession\n",
    "from pyspark.sql import Row\n",
    "from pyspark.sql.functions import current_date, row_number\n",
    "from pyspark.sql.window import Window\n",
    "\n",
    "# Create a Spark session\n",
    "spark = SparkSession.builder.appName(\"ComprehensivePySparkSQLExample\").getOrCreate()\n",
    "\n",
    "# Create sample data\n",
    "data = [\n",
    "    Row(name=\"Alice\", age=25, city=\"New York\"),\n",
    "    Row(name=\"Bob\", age=30, city=\"San Francisco\"),\n",
    "    Row(name=\"Charlie\", age=35, city=\"Los Angeles\"),\n",
    "    Row(name=\"David\", age=40, city=\"New York\"),\n",
    "    Row(name=\"Eve\", age=45, city=\"San Francisco\")\n",
    "]\n",
    "df = spark.createDataFrame(data)\n",
    "df.createOrReplaceTempView(\"people\")\n"
   ]
  },
  {
   "cell_type": "code",
   "execution_count": null,
   "id": "c7fed0ea",
   "metadata": {},
   "outputs": [],
   "source": [
    "\n",
    "# 1. Basic Queries\n",
    "result = spark.sql(\"SELECT * FROM people\")\n",
    "result.show()\n",
    "\n",
    "result = spark.sql(\"SELECT name, city FROM people\")\n",
    "result.show()\n"
   ]
  },
  {
   "cell_type": "code",
   "execution_count": null,
   "id": "1b26e8a7",
   "metadata": {},
   "outputs": [],
   "source": [
    "\n",
    "# 2. Filtering Records\n",
    "result = spark.sql(\"SELECT * FROM people WHERE age > 30\")\n",
    "result.show()\n",
    "\n",
    "result = spark.sql(\"SELECT * FROM people WHERE age > 30 AND city = 'San Francisco'\")\n",
    "result.show()\n"
   ]
  },
  {
   "cell_type": "code",
   "execution_count": null,
   "id": "0b4d9b7c",
   "metadata": {},
   "outputs": [],
   "source": [
    "\n",
    "# 3. Aggregation\n",
    "result = spark.sql(\"SELECT AVG(age) as average_age FROM people\")\n",
    "result.show()\n",
    "\n",
    "result = spark.sql(\"SELECT city, COUNT(*) as count FROM people GROUP BY city\")\n",
    "result.show()\n"
   ]
  },
  {
   "cell_type": "code",
   "execution_count": null,
   "id": "e8226b62",
   "metadata": {},
   "outputs": [],
   "source": [
    "\n",
    "# 4. Sorting Results\n",
    "result = spark.sql(\"SELECT * FROM people ORDER BY age DESC\")\n",
    "result.show()\n"
   ]
  },
  {
   "cell_type": "code",
   "execution_count": null,
   "id": "602b8be3",
   "metadata": {},
   "outputs": [],
   "source": [
    "\n",
    "# 5. Joins\n",
    "data2 = [\n",
    "    Row(name=\"Alice\", salary=70000),\n",
    "    Row(name=\"Bob\", salary=80000),\n",
    "    Row(name=\"Charlie\", salary=90000)\n",
    "]\n",
    "df2 = spark.createDataFrame(data2)\n",
    "df2.createOrReplaceTempView(\"salaries\")\n",
    "\n",
    "result = spark.sql(\"\"\"\n",
    "SELECT people.name, people.age, salaries.salary\n",
    "FROM people\n",
    "JOIN salaries ON people.name = salaries.name\n",
    "\"\"\")\n",
    "result.show()\n",
    "\n",
    "result = spark.sql(\"\"\"\n",
    "SELECT people.name, people.age, salaries.salary\n",
    "FROM people\n",
    "LEFT JOIN salaries ON people.name = salaries.name\n",
    "\"\"\")\n",
    "result.show()\n"
   ]
  },
  {
   "cell_type": "code",
   "execution_count": null,
   "id": "d5a22284",
   "metadata": {},
   "outputs": [],
   "source": [
    "\n",
    "# 6. Grouping and Having\n",
    "result = spark.sql(\"\"\"\n",
    "SELECT city, AVG(age) as average_age\n",
    "FROM people\n",
    "GROUP BY city\n",
    "HAVING AVG(age) > 30\n",
    "\"\"\")\n",
    "result.show()\n"
   ]
  },
  {
   "cell_type": "code",
   "execution_count": null,
   "id": "45282b26",
   "metadata": {},
   "outputs": [],
   "source": [
    "\n",
    "# 7. Subqueries\n",
    "result = spark.sql(\"\"\"\n",
    "SELECT name, age\n",
    "FROM people\n",
    "WHERE age > (SELECT AVG(age) FROM people)\n",
    "\"\"\")\n",
    "result.show()\n"
   ]
  },
  {
   "cell_type": "code",
   "execution_count": null,
   "id": "cfc68dfb",
   "metadata": {},
   "outputs": [],
   "source": [
    "\n",
    "# 8. String Functions\n",
    "result = spark.sql(\"SELECT UPPER(name) as upper_name, LENGTH(name) as name_length FROM people\")\n",
    "result.show()\n"
   ]
  },
  {
   "cell_type": "code",
   "execution_count": null,
   "id": "7389f933",
   "metadata": {},
   "outputs": [],
   "source": [
    "\n",
    "# 9. Date Functions\n",
    "df = df.withColumn(\"current_date\", current_date())\n",
    "df.createOrReplaceTempView(\"people\")\n",
    "\n",
    "result = spark.sql(\"SELECT name, YEAR(current_date) as current_year FROM people\")\n",
    "result.show()\n"
   ]
  },
  {
   "cell_type": "code",
   "execution_count": null,
   "id": "f2206c90",
   "metadata": {},
   "outputs": [],
   "source": [
    "\n",
    "# 10. Window Functions\n",
    "window_spec = Window.partitionBy(\"city\").orderBy(\"age\")\n",
    "\n",
    "df = df.withColumn(\"row_number\", row_number().over(window_spec))\n",
    "df.createOrReplaceTempView(\"people_with_row_number\")\n",
    "\n",
    "result = spark.sql(\"SELECT * FROM people_with_row_number\")\n",
    "result.show()\n"
   ]
  },
  {
   "cell_type": "code",
   "execution_count": null,
   "id": "1c9c21d2",
   "metadata": {},
   "outputs": [],
   "source": [
    "\n",
    "# 11. Case Statements\n",
    "result = spark.sql(\"\"\"\n",
    "SELECT name, age,\n",
    "CASE\n",
    "    WHEN age < 30 THEN 'Young'\n",
    "    WHEN age BETWEEN 30 AND 40 THEN 'Middle-aged'\n",
    "    ELSE 'Old'\n",
    "END as age_group\n",
    "FROM people\n",
    "\"\"\")\n",
    "result.show()\n"
   ]
  },
  {
   "cell_type": "code",
   "execution_count": null,
   "id": "48bab9c5",
   "metadata": {},
   "outputs": [],
   "source": [
    "\n",
    "# 12. Set Operations\n",
    "data3 = [\n",
    "    Row(name=\"Alice\", age=25),\n",
    "    Row(name=\"Bob\", age=30),\n",
    "    Row(name=\"Eve\", age=45)\n",
    "]\n",
    "df3 = spark.createDataFrame(data3)\n",
    "df3.createOrReplaceTempView(\"people_subset\")\n",
    "\n",
    "result = spark.sql(\"SELECT name, age FROM people UNION SELECT name, age FROM people_subset\")\n",
    "result.show()\n",
    "\n",
    "result = spark.sql(\"SELECT name, age FROM people INTERSECT SELECT name, age FROM people_subset\")\n",
    "result.show()\n",
    "\n",
    "result = spark.sql(\"SELECT name, age FROM people EXCEPT SELECT name, age FROM people_subset\")\n",
    "result.show()\n"
   ]
  }
 ],
 "metadata": {},
 "nbformat": 4,
 "nbformat_minor": 5
}
